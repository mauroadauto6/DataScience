{
  "cells": [
    {
      "cell_type": "markdown",
      "metadata": {
        "id": "xxJcs17x5xVA"
      },
      "source": [
        "___\n",
        "\n",
        "<a href='https://jupyter-notebook.readthedocs.io/en/stable/examples/Notebook/Running%20Code.html'> <img src='https://www.python.org/static/img/python-logo.png' /></a>\n",
        "___\n",
        "# Python Basico - Ejercicios\n",
        "\n"
      ]
    },
    {
      "cell_type": "markdown",
      "metadata": {
        "id": "TSRLlHT95xVC"
      },
      "source": [
        "## Ejercicios\n",
        "\n",
        "Responda las preguntas o complete las tareas descritas en negrita a continuación, use el método específico descrito si corresponde."
      ]
    },
    {
      "cell_type": "markdown",
      "metadata": {
        "id": "7shnuLfn5xVD"
      },
      "source": [
        "** ¿Cuánto es 7 elevado a 4?**"
      ]
    },
    {
      "cell_type": "code",
      "execution_count": null,
      "metadata": {
        "colab": {
          "base_uri": "https://localhost:8080/"
        },
        "id": "SvH_cWVC5xVD",
        "outputId": "5d887c6f-ddbc-48b9-fdf9-63d9a83f55d8"
      },
      "outputs": [
        {
          "output_type": "execute_result",
          "data": {
            "text/plain": [
              "2401"
            ]
          },
          "metadata": {},
          "execution_count": 1
        }
      ],
      "source": [
        "7**4"
      ]
    },
    {
      "cell_type": "markdown",
      "metadata": {
        "id": "S9x3saSs5xVE"
      },
      "source": [
        "** Divida esta cadena:**\n",
        "\n",
        "    s = \"Hola mi estimado!\"\n",
        "    \n",
        "**en una lista. **"
      ]
    },
    {
      "cell_type": "code",
      "execution_count": null,
      "metadata": {
        "colab": {
          "base_uri": "https://localhost:8080/"
        },
        "id": "IACh1fHJ5xVE",
        "outputId": "46c0e159-e6bc-4066-93dd-45980daf5277"
      },
      "outputs": [
        {
          "output_type": "execute_result",
          "data": {
            "text/plain": [
              "['Hola', 'mi', 'estimado!']"
            ]
          },
          "metadata": {},
          "execution_count": 7
        }
      ],
      "source": [
        "s = \"Hola mi estimado!\"\n",
        "list(s.split())"
      ]
    },
    {
      "cell_type": "code",
      "execution_count": null,
      "metadata": {
        "id": "u4YmiSTr5xVE",
        "outputId": "52ed8512-6340-464b-fdd1-12a0dcb36633"
      },
      "outputs": [
        {
          "data": {
            "text/plain": [
              "['Hola', 'mi', 'estimado!']"
            ]
          },
          "execution_count": 5,
          "metadata": {},
          "output_type": "execute_result"
        }
      ],
      "source": []
    },
    {
      "cell_type": "markdown",
      "metadata": {
        "id": "rA5djiN-5xVF"
      },
      "source": [
        "** Dadas las variables:**\n",
        "\n",
        "    planeta = \"Tierra\"\n",
        "    diametro = 12742\n",
        "\n",
        "** Use .format() para visualizar la siguente frase: **\n",
        "\n",
        "    El diametro de la Tierra es 12742 kilometros."
      ]
    },
    {
      "cell_type": "code",
      "execution_count": null,
      "metadata": {
        "id": "U41Q7VhD5xVF"
      },
      "outputs": [],
      "source": [
        "planeta = \"Tierra\"\n",
        "diametro = 12742"
      ]
    },
    {
      "cell_type": "code",
      "execution_count": null,
      "metadata": {
        "colab": {
          "base_uri": "https://localhost:8080/"
        },
        "id": "IM51blye5xVG",
        "outputId": "9ca01c2b-5634-486d-82c8-d8ae705ecb07"
      },
      "outputs": [
        {
          "output_type": "stream",
          "name": "stdout",
          "text": [
            "El diametro de la Tierra es 12742 kilometros\n"
          ]
        }
      ],
      "source": [
        "print(\"El diametro de la {p} es {d} kilometros\".format(p=planeta, d=diametro))"
      ]
    },
    {
      "cell_type": "markdown",
      "metadata": {
        "id": "zAm0ZpQ35xVG"
      },
      "source": [
        "** Dada esta lista anidada, use la indexación para obtener la palabra \"hola\"**"
      ]
    },
    {
      "cell_type": "code",
      "execution_count": null,
      "metadata": {
        "id": "9V-mzNcr5xVG"
      },
      "outputs": [],
      "source": [
        "lst = [1,2,[3,4],[5,[100,200,['hola']],23,11],1,7]"
      ]
    },
    {
      "cell_type": "code",
      "execution_count": null,
      "metadata": {
        "colab": {
          "base_uri": "https://localhost:8080/"
        },
        "id": "PTymCYaw5xVG",
        "outputId": "a3b9aec5-daa5-4fbf-f807-ac55f5e51084"
      },
      "outputs": [
        {
          "output_type": "execute_result",
          "data": {
            "text/plain": [
              "['hola']"
            ]
          },
          "metadata": {},
          "execution_count": 14
        }
      ],
      "source": [
        "lst[3][1][2]"
      ]
    },
    {
      "cell_type": "markdown",
      "metadata": {
        "id": "Mg-1HPeD5xVH"
      },
      "source": [
        "** Dado este diccionario nido, tome la palabra \"hola\". Esté preparado, esto será molesto / complicado  **"
      ]
    },
    {
      "cell_type": "code",
      "execution_count": 2,
      "metadata": {
        "id": "XIOkN5ag5xVH"
      },
      "outputs": [],
      "source": [
        "d = {'k1':[1,2,3,{'dificil':['oh','man','inicio',{'destino':[1,2,3,'hola']}]}]}"
      ]
    },
    {
      "cell_type": "code",
      "execution_count": 13,
      "metadata": {
        "colab": {
          "base_uri": "https://localhost:8080/",
          "height": 36
        },
        "id": "rbX7ElV85xVH",
        "outputId": "a142e041-ccbd-44c7-9879-f5b949e010de"
      },
      "outputs": [
        {
          "output_type": "execute_result",
          "data": {
            "text/plain": [
              "'hola'"
            ],
            "application/vnd.google.colaboratory.intrinsic+json": {
              "type": "string"
            }
          },
          "metadata": {},
          "execution_count": 13
        }
      ],
      "source": [
        "d['k1'][3]['dificil'][3]['destino'][3]"
      ]
    },
    {
      "cell_type": "markdown",
      "metadata": {
        "id": "zDvoqmKW5xVH"
      },
      "source": [
        "** ¿Cuál es la principal diferencia entre una tupla y una lista? **"
      ]
    },
    {
      "cell_type": "code",
      "execution_count": 5,
      "metadata": {
        "id": "ALllGfCf5xVI",
        "colab": {
          "base_uri": "https://localhost:8080/",
          "height": 36
        },
        "outputId": "3db6544a-1eb3-4ed3-ef09-9ce7140ca3af"
      },
      "outputs": [
        {
          "output_type": "execute_result",
          "data": {
            "text/plain": [
              "'No se puede modificar un elemento dentro de una tupla'"
            ],
            "application/vnd.google.colaboratory.intrinsic+json": {
              "type": "string"
            }
          },
          "metadata": {},
          "execution_count": 5
        }
      ],
      "source": [
        "\"No se puede modificar un elemento dentro de una tupla\""
      ]
    },
    {
      "cell_type": "markdown",
      "metadata": {
        "id": "ZdYVeiBb5xVI"
      },
      "source": [
        "** Cree una función que tome el dominio del sitio web de correo electrónico a partir de una cadena con el siguiente formato: **\n",
        "\n",
        "    user@dominio.com\n",
        "    \n",
        "**Entonces, por ejemplo, pasando \"user@domain.com\" retornaria: domain.com**"
      ]
    },
    {
      "cell_type": "code",
      "execution_count": 27,
      "metadata": {
        "id": "bTDzL-lZ5xVI"
      },
      "outputs": [],
      "source": [
        "def dominioGet(d):\n",
        "  print(d.split('@')[1])"
      ]
    },
    {
      "cell_type": "code",
      "execution_count": 28,
      "metadata": {
        "id": "J52c2xIj5xVI",
        "outputId": "65453f14-c8d2-4ae2-9e52-c023f87f06b4",
        "colab": {
          "base_uri": "https://localhost:8080/"
        }
      },
      "outputs": [
        {
          "output_type": "stream",
          "name": "stdout",
          "text": [
            "dominio.com\n"
          ]
        }
      ],
      "source": [
        "dominioGet('user@dominio.com')"
      ]
    },
    {
      "cell_type": "markdown",
      "metadata": {
        "id": "XZMlrRwJ5xVI"
      },
      "source": [
        "** Cree una función básica que devuelva Verdadero si la palabra 'perro' está contenida en la cadena de entrada. No se preocupe por casos extremos como una puntuación que se adjunta a la palabra perro, pero tenga en cuenta las mayúsculas. **"
      ]
    },
    {
      "cell_type": "code",
      "execution_count": 34,
      "metadata": {
        "id": "cACOtysl5xVI"
      },
      "outputs": [],
      "source": [
        "def ubicaDog(perro):\n",
        "  perro.lower()\n",
        "  if ('perro' in perro.split()):\n",
        "    return 'Verdadero'"
      ]
    },
    {
      "cell_type": "code",
      "execution_count": 35,
      "metadata": {
        "id": "kkA6uEWE5xVI",
        "outputId": "1387c8bb-2f85-4567-cb4b-7a774e9d9df2",
        "colab": {
          "base_uri": "https://localhost:8080/",
          "height": 36
        }
      },
      "outputs": [
        {
          "output_type": "execute_result",
          "data": {
            "text/plain": [
              "'Verdadero'"
            ],
            "application/vnd.google.colaboratory.intrinsic+json": {
              "type": "string"
            }
          },
          "metadata": {},
          "execution_count": 35
        }
      ],
      "source": [
        "ubicaDog('Esta el perro aqui?')"
      ]
    },
    {
      "cell_type": "markdown",
      "metadata": {
        "id": "v9Ajg7045xVJ"
      },
      "source": [
        "** Cree una función que cuente el número de veces que aparece la palabra \"perro\" en una cadena. Nuevamente ignore los casos extremos. **"
      ]
    },
    {
      "cell_type": "code",
      "execution_count": 76,
      "metadata": {
        "id": "Dy6D1FKC5xVJ"
      },
      "outputs": [],
      "source": [
        "def cuentaDog(perro):\n",
        "  cont = 0\n",
        "  for x in perro.split():\n",
        "    if ('perro' == x):\n",
        "      cont = cont+1\n",
        "  print(cont)\n"
      ]
    },
    {
      "cell_type": "code",
      "execution_count": 77,
      "metadata": {
        "id": "DIGNRxf35xVJ",
        "outputId": "c9f5cfee-130b-49e5-a0ed-428c18ca10a9",
        "colab": {
          "base_uri": "https://localhost:8080/"
        }
      },
      "outputs": [
        {
          "output_type": "stream",
          "name": "stdout",
          "text": [
            "2\n"
          ]
        }
      ],
      "source": [
        "cuentaDog('Este perro corre mas rapido que este otro perro no lo dudes!')"
      ]
    },
    {
      "cell_type": "markdown",
      "metadata": {
        "id": "mmW3gtMl5xVJ"
      },
      "source": [
        "** Utilice expresiones lambda y la función filter () para filtrar las palabras de una lista que comiencen con la letra 's'. Por ejemplo:**\n",
        "\n",
        "    seq = ['sopa','perro','salida','gato','excelente']\n",
        "\n",
        "**debe filtrarse solo:**\n",
        "\n",
        "    ['sopa','salida']"
      ]
    },
    {
      "cell_type": "code",
      "execution_count": 78,
      "metadata": {
        "id": "turWXjpE5xVJ"
      },
      "outputs": [],
      "source": [
        "seq = ['sopa','perro','salida','gato','excelente']"
      ]
    },
    {
      "cell_type": "code",
      "execution_count": 85,
      "metadata": {
        "id": "DqD60o615xVJ",
        "outputId": "c3c22cf2-f5c8-4f62-df2e-89c5816c85c0",
        "colab": {
          "base_uri": "https://localhost:8080/"
        }
      },
      "outputs": [
        {
          "output_type": "execute_result",
          "data": {
            "text/plain": [
              "['sopa', 'salida']"
            ]
          },
          "metadata": {},
          "execution_count": 85
        }
      ],
      "source": [
        "list(filter(lambda x: x.startswith('s'), seq))\n"
      ]
    },
    {
      "cell_type": "markdown",
      "metadata": {
        "id": "j7NRMtm55xVJ"
      },
      "source": [
        "### Ejercicio Final\n",
        "**Conduces demasiado rápido y un policía te detiene. Escribe una función para devolver uno de los 3 resultados posibles: \"Sin papeleta\", \"Papeleta NO GRAVE\" o \"Papeleta GRAVE\".\n",
        "   Si tu velocidad es de 60 o menos, el resultado es \"Sin papeleta\". Si la velocidad está entre 61\n",
        "   y 80 inclusive, el resultado es \"Papeleta NO GRAVE\". Si la velocidad es 81 o más, el resultado es \"Papeleta GRAVE\". A menos que sea tu cumpleaños (codificado como un valor booleano en los parámetros de la función), en tu cumpleaños, la velocidad puede ser 5 más alta en total de casos. **"
      ]
    },
    {
      "cell_type": "code",
      "execution_count": 96,
      "metadata": {
        "id": "JRIc-9YC5xVK"
      },
      "outputs": [],
      "source": [
        "def calcula_velocidad(velocidad, es_mi_cumple):\n",
        "   if es_mi_cumple:\n",
        "    if(velocidad >= 66 and velocidad <= 85):\n",
        "      print(\"Papeleta NO GRAVE\")\n",
        "    elif(velocidad >= 86):\n",
        "      print(\"Papeleta GRAVE\")\n",
        "    elif (velocidad <= 65):\n",
        "      print(\"Sin papeleta\")\n",
        "   elif (es_mi_cumple == False):\n",
        "    if(velocidad >= 61 and velocidad <= 80):\n",
        "      print(\"Papeleta NO GRAVE\")\n",
        "    elif(velocidad >= 81):\n",
        "      print(\"Papeleta GRAVE\")\n",
        "    elif (velocidad <= 60):\n",
        "      print(\"Sin papeleta\")\n"
      ]
    },
    {
      "cell_type": "code",
      "execution_count": 99,
      "metadata": {
        "id": "53ZXbR6Q5xVK",
        "outputId": "cbac7063-2c5e-49e0-fb59-f3b453ac24ea",
        "colab": {
          "base_uri": "https://localhost:8080/"
        }
      },
      "outputs": [
        {
          "output_type": "stream",
          "name": "stdout",
          "text": [
            "Papeleta NO GRAVE\n"
          ]
        }
      ],
      "source": [
        "calcula_velocidad(81,True)"
      ]
    },
    {
      "cell_type": "code",
      "execution_count": 98,
      "metadata": {
        "id": "MGEav7vL5xVK",
        "outputId": "8820c287-f1ee-4f74-a8db-292f1776eee5",
        "colab": {
          "base_uri": "https://localhost:8080/"
        }
      },
      "outputs": [
        {
          "output_type": "stream",
          "name": "stdout",
          "text": [
            "Papeleta GRAVE\n"
          ]
        }
      ],
      "source": [
        "calcula_velocidad(81,False)"
      ]
    },
    {
      "cell_type": "code",
      "source": [
        "calcula_velocidad(60,False)"
      ],
      "metadata": {
        "colab": {
          "base_uri": "https://localhost:8080/"
        },
        "id": "pIZqbmx2mr7Y",
        "outputId": "31f1733c-b780-42ba-b33d-c488067123ac"
      },
      "execution_count": 97,
      "outputs": [
        {
          "output_type": "stream",
          "name": "stdout",
          "text": [
            "Sin papeleta\n"
          ]
        }
      ]
    },
    {
      "cell_type": "markdown",
      "metadata": {
        "id": "gkRNPRCs5xVK"
      },
      "source": [
        "# Buen trabajo!"
      ]
    }
  ],
  "metadata": {
    "kernelspec": {
      "display_name": "Python 3",
      "language": "python",
      "name": "python3"
    },
    "language_info": {
      "codemirror_mode": {
        "name": "ipython",
        "version": 3
      },
      "file_extension": ".py",
      "mimetype": "text/x-python",
      "name": "python",
      "nbconvert_exporter": "python",
      "pygments_lexer": "ipython3",
      "version": "3.8.5"
    },
    "colab": {
      "provenance": []
    }
  },
  "nbformat": 4,
  "nbformat_minor": 0
}